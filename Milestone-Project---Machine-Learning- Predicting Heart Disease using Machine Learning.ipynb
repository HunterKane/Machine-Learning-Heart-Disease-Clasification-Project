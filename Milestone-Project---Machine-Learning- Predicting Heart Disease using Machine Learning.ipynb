{
 "cells": [
  {
   "cell_type": "markdown",
   "metadata": {},
   "source": [
    "# Purpose of Project - To demonstrate real life example of what a data science and machine learning proof of concept might look like.\n",
    "\n",
    "## What is classification? Classification involves deciding whether a sample is part of one class or another (single-class classification). If there are multiple class options, it's referred to as multi-class classification.\n",
    "\n",
    "### Since we already have a dataset, we'll approach the problem with the following machine learning modelling framework.\n",
    "\n",
    "#### Exploratory data analysis (EDA) - the process of going through a dataset and finding out more about it.\n",
    "\n",
    "- Model training - create model(s) to learn to predict a target variable based on other variables.\n",
    "- Model evaluation - evaluating a models predictions using problem-specific evaluation metrics.\n",
    "- Model comparison - comparing several different models to find the best one.\n",
    "- Model fine-tuning - once we've found a good model, how can we improve it?\n",
    "- Feature importance - since we're predicting the presence of heart disease, are there some things which are more important for prediction?\n",
    "- Cross-validation - if we do build a good model, can we be sure it will work on unseen data?\n",
    "- Reporting what we've found - if we had to present our work, what would we show someone?\n",
    "\n",
    "1. Problem Definition In our case, the problem we will be exploring is binary classification (a sample can only be one of two things). This is because we're going to be using a number of differnet features (pieces of information) about a person to predict whether they have heart disease or not. In a statement, Given clinical parameters about a patient, can we predict whether or not they have heart disease?\n",
    "\n",
    "2. Data What you'll want to do here is dive into the data your problem definition is based on. This may involve, sourcing, defining different parameters, talking to experts about it and finding out what you should expect. The original data came from the Cleveland database from UCI Machine Learning Repository. Howevever, we've downloaded it in a formatted way from Kaggle. The original database contains 76 attributes, but here only 14 attributes will be used. Attributes (also called features) are the variables what we'll use to predict our target variable. Attributes and features are also referred to as independent variables and a target variable can be referred to as a dependent variable. We use the independent variables to predict our dependent variable. Or in our case, the independent variables are a patients different medical attributes and the dependent variable is whether or not they have heart disease.\n",
    "\n",
    "3. Evaluation The evaluation metric is something you might define at the start of a project. Since machine learning is very experimental, you might say something like, If we can reach 95% accuracy at predicting whether or not a patient has heart disease during the proof of concept, we'll pursure this project. The reason this is helpful is it provides a rough goal for a machine learning engineer or data scientist to work towards. However, due to the nature of experimentation, the evaluation metric may change over time.\n",
    "\n",
    "4. Features Features are different parts of the data. During this step, you'll want to start finding out what you can about the data. One of the most common ways to do this, is to create a data dictionary.\n",
    "\n"
   ]
  },
  {
   "cell_type": "code",
   "execution_count": null,
   "metadata": {},
   "outputs": [],
   "source": []
  }
 ],
 "metadata": {
  "kernelspec": {
   "display_name": "Python 3",
   "language": "python",
   "name": "python3"
  },
  "language_info": {
   "codemirror_mode": {
    "name": "ipython",
    "version": 3
   },
   "file_extension": ".py",
   "mimetype": "text/x-python",
   "name": "python",
   "nbconvert_exporter": "python",
   "pygments_lexer": "ipython3",
   "version": "3.8.5"
  }
 },
 "nbformat": 4,
 "nbformat_minor": 4
}
